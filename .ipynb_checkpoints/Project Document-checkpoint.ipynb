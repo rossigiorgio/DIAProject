{
 "cells": [
  {
   "cell_type": "markdown",
   "id": "0693490a",
   "metadata": {},
   "source": [
    "# Data intelligence Application Project\n",
    "\n",
    "# Introduction\n",
    "\n",
    "The goal of the project is to find the best joint bidding and pricing strategy to attract more user on an e-commerce website. In this way we can sell more items and also try to fidelize the users after the first purhcase. \n",
    "\n",
    "First of all we define the scenario, the product we want to sell and the idea behind the choice we make\n"
   ]
  },
  {
   "cell_type": "markdown",
   "id": "3f1d9bda",
   "metadata": {},
   "source": [
    "### Product to sell\n",
    "\n",
    "The product that we want to sell is an anti wrinkle cream.\n",
    "We choose this product because nowadays people in general take more care about their beauty and more specifically on their skins. \n",
    "A cream is a product for everyone, easy to sell and to advertise that can be manufactured with low price and sold at an higher price, if well sposorized.\n",
    "A cream is also a product that can be buyed with a fixed frequency (monthly in our case) and, if a person think that the product is good, he is going to buy it over time"
   ]
  },
  {
   "cell_type": "markdown",
   "id": "95e7bafe",
   "metadata": {},
   "source": [
    "### User Features and Classes\n",
    "\n",
    "We have identified 3 classes of potential buyer characterizeb by 2 principal features\n",
    "#### Features\n",
    "* *Gender*: \n",
    "    * Male\n",
    "    * Female\n",
    "* *Age*:\n",
    "    * Young, before 30y/o\n",
    "    * Adult, after 30y/o\n",
    "\n",
    "#### Classes:\n",
    "|       | Female | Male |\n",
    "|-------|:----------:|--------------:|\n",
    "| **Young** | x        |           |\n",
    "| **Adult** | x        |   x           |\n",
    "    \n",
    "*  **Male-Adult(C1)**: This is the less intrested class in buying the product but we think that the are many pontential buyers, they are not willing to pay much for a cream\n",
    "*  **Female-Adult(C2)**: This is the more intrested class, they are willing to spend much for the product, first of all because they have the economic availability and because a cheaper product may be intrepreted as a bad quality product\n",
    "*  **Female-Young(C3)**: This class does not have high economic capabilities, so the price need to be less then the price for the Class 2, also because they usually don't care about the quality "
   ]
  },
  {
   "cell_type": "markdown",
   "id": "fc39b5d4",
   "metadata": {},
   "source": [
    "# Enviroment\n",
    "\n",
    "### Conversion Rate\n",
    "\n",
    "For the conversion rate we have defined 10 points for each class and using a quintic regression we have estimated a function for each one\n"
   ]
  },
  {
   "cell_type": "code",
   "execution_count": 23,
   "id": "ac3dc614",
   "metadata": {},
   "outputs": [
    {
     "data": {
      "image/png": "[encoded data removed]",
      "text/plain": [
       "<Figure size 432x288 with 1 Axes>"
      ]
     },
     "metadata": {
      "needs_background": "light"
     },
     "output_type": "display_data"
    }
   ],
   "source": [
    "import matplotlib.pyplot as plt\n",
    "import numpy as np\n",
    "\n",
    "terms1 = [\n",
    "     2.7201569788151064e-001,\n",
    "     1.0492858071043640e-001,\n",
    "    -7.7219072733113589e-003,\n",
    "    -7.8440033424782515e-005,\n",
    "     1.5070734117821789e-005,\n",
    "    -2.6951793857949948e-007\n",
    "]\n",
    "\n",
    "def regressC1(x):\n",
    "  t = 1\n",
    "  r = 0\n",
    "  for c in terms1:\n",
    "    r += c * t\n",
    "    t *= x\n",
    "  return r\n",
    "\n",
    "terms2 = [\n",
    "     2.8737573993069027e-001,\n",
    "     5.9510040146659365e-002,\n",
    "    -3.3835350515498425e-003,\n",
    "     3.3437236649835021e-004,\n",
    "    -2.1899899222428644e-005,\n",
    "     4.0670620526356083e-007\n",
    "]\n",
    "\n",
    "def regressC2(x):\n",
    "  t = 1\n",
    "  r = 0\n",
    "  for c in terms2:\n",
    "    r += c * t\n",
    "    t *= x\n",
    "  return r\n",
    "\n",
    "\n",
    "terms3 = [\n",
    "     3.3159910846623597e-001,\n",
    "     6.2264260733061391e-002,\n",
    "    -1.0506786208669700e-003,\n",
    "    -5.9692898283301293e-004,\n",
    "     3.3636918621988781e-005,\n",
    "    -5.0878883129873533e-007\n",
    "]\n",
    "\n",
    "def regressC3(x):\n",
    "  t = 1\n",
    "  r = 0\n",
    "  for c in terms3:\n",
    "    r += c * t\n",
    "    t *= x\n",
    "  return r\n",
    "\n",
    "prices=np.intc([2 ,5,7,9, 10,12, 15, 20, 25, 30 ])\n",
    "\n",
    "\n",
    "fig = plt.figure() \n",
    "plt.plot(prices,regressC1(prices), label=\"Male-Adult\") \n",
    "plt.plot(prices,regressC2(prices), label=\"Female-Adult\")\n",
    "plt.plot(prices,regressC3(prices), label=\"Female-Young\")\n",
    "plt.title(\"Conversion Rates\")\n",
    "plt.xlabel(\"Price (€)\")\n",
    "plt.ylabel(\"Conversion Rate\")\n",
    "plt.legend()\n",
    "plt.show() "
   ]
  },
  {
   "cell_type": "markdown",
   "id": "68158a48",
   "metadata": {},
   "source": [
    "### Cost Per Click\n",
    "\n",
    "The cost of a single click depend on the bid, we tought that a reasonable random variabile that follow a uniform distribution with a=bid-0.05*bid and b=bid+0.05*bid"
   ]
  },
  {
   "cell_type": "code",
   "execution_count": null,
   "id": "e4ecff12",
   "metadata": {},
   "outputs": [],
   "source": [
    "def costPerClick(bid):\n",
    "        s= np.random.uniform(bid-0.05*bid, bid+0.05*bid,1)\n",
    "        return(s)"
   ]
  }
 ],
 "metadata": {
  "kernelspec": {
   "display_name": "Python 3",
   "language": "python",
   "name": "python3"
  },
  "language_info": {
   "codemirror_mode": {
    "name": "ipython",
    "version": 3
   },
   "file_extension": ".py",
   "mimetype": "text/x-python",
   "name": "python",
   "nbconvert_exporter": "python",
   "pygments_lexer": "ipython3",
   "version": "3.8.3"
  }
 },
 "nbformat": 4,
 "nbformat_minor": 5
}

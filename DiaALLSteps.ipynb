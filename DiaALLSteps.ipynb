{
  "nbformat": 4,
  "nbformat_minor": 0,
  "metadata": {
    "colab": {
      "name": "DiaALLSteps.ipynb",
      "provenance": [],
      "collapsed_sections": []
    },
    "kernelspec": {
      "name": "python3",
      "display_name": "Python 3"
    },
    "language_info": {
      "name": "python"
    },
    "accelerator": "GPU"
  },
  "cells": [
    {
      "cell_type": "markdown",
      "metadata": {
        "id": "brTeiWplzkPE"
      },
      "source": [
        "Upload\n",
        "\n",
        "1.   pricing config json\n",
        "\n",
        "\n"
      ]
    },
    {
      "cell_type": "code",
      "metadata": {
        "id": "-a804mSHGy9n"
      },
      "source": [
        "import numpy as np\n",
        "import matplotlib.pyplot as plt\n"
      ],
      "execution_count": 85,
      "outputs": []
    },
    {
      "cell_type": "markdown",
      "metadata": {
        "id": "Hod06cOezylc"
      },
      "source": [
        "### Project Environment"
      ]
    },
    {
      "cell_type": "code",
      "metadata": {
        "id": "rsrnvTuYrIhN"
      },
      "source": [
        "import json\n",
        "import numpy as np\n",
        "import math\n",
        "import os \n",
        "\n",
        "class contextEnv():\n",
        "    \n",
        "    def __init__(self):\n",
        "        # dirname = os.path.dirname(__file__)\n",
        "        path = 'pricing_config.json'\n",
        "        with open(path) as json_file:\n",
        "            data = json.load(json_file)\n",
        "        self.name=data[\"product\"][0][\"name\"]\n",
        "        self.features=data[\"product\"][0][\"features\"]\n",
        "        self.classes=data[\"product\"][0][\"classes\"]\n",
        "        self.prices=data[\"product\"][0][\"prices\"]\n",
        "        self.probabilities=data[\"product\"][0][\"probabilities\"]\n",
        "        \n",
        "    def nextTimeProbability(month):\n",
        "        return(month/(2+month))\n",
        "    \n",
        "    def nrDailyClick(bid):\n",
        "        meanNrClick = math.trunc(500*math.tanh(bid))\n",
        "        nrClick= math.trunc(np.random.uniform(meanNrClick-0.05*meanNrClick, meanNrClick+0.05*meanNrClick,1))\n",
        "        return nrClick\n",
        "    \n",
        "    def costPerClick(self, bid):\n",
        "        s= np.random.uniform(bid-0.05*bid, bid+0.05*bid,1)\n",
        "        return s\n",
        "        \n",
        "    def conversionRateFunctionMale(price):\n",
        "        rate=0.0001*(price)^3-0.0072*(price)^2+0.0842*price +0.3294\n",
        "        return rate\n",
        "    \n",
        "    def conversionRateFunctionFelameA(price):\n",
        "        rate= 0.0001*(price)^3-0.0053*(price)^2+0.0988*price+0.1855\n",
        "        return rate\n",
        "    \n",
        "    def conversionRateFunctionFemaleY(price):\n",
        "        rate=0.0001*(price)^3-0.0074*(price)^2+0.0804*price+0.3241\n",
        "        return rate\n",
        "   "
      ],
      "execution_count": 86,
      "outputs": []
    },
    {
      "cell_type": "markdown",
      "metadata": {
        "id": "dpCkN4gfz-Vw"
      },
      "source": [
        "### Bidding Environment"
      ]
    },
    {
      "cell_type": "code",
      "metadata": {
        "id": "IgrSahg9rSVY"
      },
      "source": [
        "class Learner:\n",
        "    def __init__(self, n_arms):\n",
        "        self.n_arms = n_arms\n",
        "        self.t = 0\n",
        "        self.rewards_per_arm = x = [[] for i in range(0, n_arms)]\n",
        "        self.collected_rewards = np.array([])\n",
        "    \n",
        "    def update_observations(self, pulled_arm, reward):\n",
        "        self.rewards_per_arm[pulled_arm].append(reward)\n",
        "        self.collected_rewards = np.append(self.collected_rewards, reward)"
      ],
      "execution_count": 87,
      "outputs": []
    },
    {
      "cell_type": "code",
      "metadata": {
        "id": "4acNwOkGrdw-"
      },
      "source": [
        "def fun(bid):\n",
        "    meanNrClick = math.trunc(500*math.tanh(bid))\n",
        "    nrClick= math.trunc(np.random.uniform(meanNrClick-0.05*meanNrClick, meanNrClick+0.05*meanNrClick,1)[0])\n",
        "    return nrClick\n",
        "\n",
        "class BiddingEnvironment():\n",
        "    def __init__(self, bids, sigma): #array of possible bids and (sigma) standard deviation of the reward function and we assume.\n",
        "        self.bids = bids\n",
        "        self.means = [fun(bid) for bid in bids] #mean of reward function\n",
        "        self.sigmas = np.ones(len(bids)) * sigma\n",
        "\n",
        "    def round(self, pulled_arm):\n",
        "        reward = np.random.normal(self.means[pulled_arm], self.sigmas[pulled_arm], 1)\n",
        "        return reward"
      ],
      "execution_count": 100,
      "outputs": []
    },
    {
      "cell_type": "code",
      "metadata": {
        "id": "jnnJBspDrhe5"
      },
      "source": [
        "from sklearn.gaussian_process import GaussianProcessRegressor\n",
        "from sklearn.gaussian_process.kernels import RBF, ConstantKernel as C\n",
        "\n",
        "class GPTS_Learner(Learner):\n",
        "    def __init__(self, n_arms, arms):\n",
        "        super().__init__(n_arms)\n",
        "        self.arms = arms\n",
        "        self.means = np.zeros(n_arms)\n",
        "        self.sigmas = np.ones(n_arms) * 10\n",
        "        self.revenue_probs = np.zeros(10)\n",
        "        self.pulled_arms = []\n",
        "        alpha = 10.0\n",
        "        kernel = C(1.0, (1e-3, 1e3)) * RBF(1.0, (1e-3, 1e3))\n",
        "        self.gp = GaussianProcessRegressor(kernel=kernel, alpha = alpha**2, normalize_y=True, n_restarts_optimizer=10)\n",
        "\n",
        "    \n",
        "    def update_observations(self, pulled_arm, reward):\n",
        "        super().update_observations(pulled_arm, reward)\n",
        "        self.pulled_arms.append(self.arms[pulled_arm])\n",
        "        \n",
        "    def update_model(self):\n",
        "        x = np.atleast_2d(self.pulled_arms).T\n",
        "        y = self.collected_rewards\n",
        "        self.gp.fit(x,y)\n",
        "        \n",
        "        x_pred = np.atleast_2d(self.arms).T\n",
        "        self.means, self.sigmas = self.gp.predict(x_pred, return_std=True)\n",
        "        self.sigmas = np.maximum(self.sigmas, 1e-2)\n",
        "        \n",
        "    def update(self, pulled_arm, reward):\n",
        "        self.t += 1\n",
        "        self.update_observations(pulled_arm, reward)\n",
        "        self.update_model()\n",
        "        \n",
        "    \n",
        "    def pull_arm(self):\n",
        "        bool_arr = self.revenue_probs < 0.20\n",
        "        idxs = np.where(bool_arr)[0]\n",
        "        ms = [self.means[i] for i in idxs]\n",
        "        sigs = [self.sigmas[i] for i in idxs]\n",
        "        idx = np.argmax(np.random.normal(ms, sigs))\n",
        "        return idxs[idx]"
      ],
      "execution_count": 111,
      "outputs": []
    },
    {
      "cell_type": "code",
      "metadata": {
        "id": "z66yPvjB4Gvj"
      },
      "source": [
        "class GTS_Learner(Learner):\n",
        "    def __init__(self, n_arms):\n",
        "        super().__init__(n_arms)\n",
        "        self.means = np.zeros(n_arms)\n",
        "        self.sigmas = np.ones(n_arms) * 1e3\n",
        "        self.revenue_probs = np.zeros(n_arms)\n",
        "\n",
        "        \n",
        "    def pull_arm(self):\n",
        "        bool_arr = self.revenue_probs < 0.20\n",
        "        idxs = np.where(bool_arr)[0]\n",
        "        ms = [self.means[i] for i in idxs]\n",
        "        sigs = [self.sigmas[i] for i in idxs]\n",
        "        idx = np.argmax(np.random.normal(ms, sigs))\n",
        "        return idxs[idx]\n",
        "    \n",
        "     \n",
        "    def update(self, pulled_arm, reward):\n",
        "        self.t += 1\n",
        "        self.update_observations(pulled_arm, reward)\n",
        "        self.means[pulled_arm] = np.mean(self.rewards_per_arm[pulled_arm])\n",
        "        n_samples = len(self.rewards_per_arm[pulled_arm])\n",
        "        if n_samples > 1:\n",
        "            self.sigmas[pulled_arm] = np.std(self.rewards_per_arm[pulled_arm]) / n_samples\n"
      ],
      "execution_count": 112,
      "outputs": []
    },
    {
      "cell_type": "markdown",
      "metadata": {
        "id": "Cn9zS0X40mLx"
      },
      "source": [
        "### Pricing Enviroment"
      ]
    },
    {
      "cell_type": "code",
      "metadata": {
        "id": "Nm6qCbnnlSRZ"
      },
      "source": [
        "class Enviroment():\n",
        "    def __init__(self, n_arms, probabilities):\n",
        "        self.narms = n_arms\n",
        "        self.probabilities = probabilities\n",
        "    \n",
        "    def round(self, pulled_arm):\n",
        "        reward = np.random.binomial(1, self.probabilities[pulled_arm])\n",
        "        return reward"
      ],
      "execution_count": 93,
      "outputs": []
    },
    {
      "cell_type": "code",
      "metadata": {
        "id": "_PRGpoIplhHG"
      },
      "source": [
        "class PricingLearner:\n",
        "    def __init__(self, n_arms):\n",
        "        self.n_arms=n_arms\n",
        "        self.t=0 #current round value, cioè il tempo t, inizializzato a 0\n",
        "        #questa variabile è una lista di liste e la dimensione della lista esterna\n",
        "        #è uguale al numero di arms mentre la dimensione della lista interna è data\n",
        "        #da quante volte ho pullato una determinata arm \n",
        "        self.rewards_per_arm= x = [ [] for i in range (n_arms)]\n",
        "        self. collected_rewards = np.array([])\n",
        "    \n",
        "    def update_observations(self, pulled_arm, reward):\n",
        "        #quando ho pullato l'arm inserisco i valori ottenuti\n",
        "        self.rewards_per_arm[pulled_arm].append(reward) \n",
        "        self.collected_rewards= np.append(self.collected_rewards, reward)"
      ],
      "execution_count": 94,
      "outputs": []
    },
    {
      "cell_type": "code",
      "metadata": {
        "id": "dQbt0Wakla_x"
      },
      "source": [
        "class TS_Learner(PricingLearner):\n",
        "    def __init__(self, n_arms):\n",
        "        super().__init__(n_arms)\n",
        "        #estendo la classe learner precedente con il parametro dela beta distribution\n",
        "        self.beta_parameters = np.ones((n_arms, 2)) #i parametri della beta distribution sono due\n",
        "        #alpha e beta ed entrambi inizialmente sono inizializzati a 1, per quest creo un nuovo array \n",
        "        #bidimensionale di 1 con lunghezza = al numero di arms\n",
        "        \n",
        "    def pull_arm(self):\n",
        "        #per ogni arm quello che faccio è di prendere un sample dalla beta distribution per ogni arm \n",
        "        #ad ogni iterazione. L'arm che verrà pullata sarà quella con il sample con il valore maggiore\n",
        "        #in questo caso infatti per ogni arm tramite la funzione np.random.beta creo dei sample e con la\n",
        "        #funzione argmax seleziono l'indice di quello con il valore maggiore\n",
        "        idx=np.argmax(np.random.beta(self.beta_parameters[:,0], self.beta_parameters[:,1]))\n",
        "        return idx\n",
        "    \n",
        "    def update(self, pulled_arm, reward):\n",
        "        self.t+=1; #incremento il tempo\n",
        "        self.update_observations(pulled_arm, reward) #faccio l'update delle observation\n",
        "        self.beta_parameters[pulled_arm, 0]= self.beta_parameters[pulled_arm,0]+reward\n",
        "        self.beta_parameters[pulled_arm, 1]= self.beta_parameters[pulled_arm,1] +(1.0 - reward)"
      ],
      "execution_count": 95,
      "outputs": []
    },
    {
      "cell_type": "code",
      "metadata": {
        "id": "V3P_1X3B6cTk"
      },
      "source": [
        "class UCB1(PricingLearner):\n",
        "    def __init__(self, n_arms):\n",
        "        super().__init__(n_arms)\n",
        "        self.empirical_means= np.zeros(n_arms) #Xa\n",
        "        self.confidence = np.zeros(n_arms) #extra term (quello sotto radice)\n",
        "    \n",
        "    def pull_arm(self): #pull the arm that maximixe the bound (see the formula)\n",
        "        if self.t< self.n_arms:\n",
        "            arm=self.t\n",
        "        else:  \n",
        "            upper_bound=self.empirical_means+self.confidence\n",
        "            arm=np.random.choice(np.where(upper_bound==upper_bound.max())[0])\n",
        "        return arm\n",
        "         \n",
        "    def update(self, pulled_arm, reward):\n",
        "        self.t +=1        \n",
        "        #self.collected_rewards= np.append(self.collected_rewards, reward)\n",
        "        self.empirical_means[pulled_arm]=(self.empirical_means[pulled_arm]*(self.t-1)+reward)/self.t\n",
        "        for a in range (self.n_arms):\n",
        "            number_pulled= max(1, len(self.rewards_per_arm[a]))\n",
        "            self.confidence[a]=(2*np.log(self.t)/number_pulled)**0.5\n",
        "            \n",
        "        self.update_observations(pulled_arm, reward)"
      ],
      "execution_count": 96,
      "outputs": []
    },
    {
      "cell_type": "markdown",
      "metadata": {
        "id": "6-OMKWUp7dEr"
      },
      "source": [
        "### Step 3"
      ]
    },
    {
      "cell_type": "code",
      "metadata": {
        "colab": {
          "base_uri": "https://localhost:8080/",
          "height": 313
        },
        "id": "f9hhU7Mv6t4w",
        "outputId": "5ac1b909-f341-4640-b600-95d401236a96"
      },
      "source": [
        "context= contextEnv()\n",
        "prezzi=context.prices\n",
        "min_prezzo= np.min(prezzi)\n",
        "max_prezzo= np.max(prezzi)\n",
        "\n",
        "p=context.probabilities\n",
        "c=np.zeros(10)\n",
        "\n",
        "for i in range(0,9):\n",
        "    c[i]=(p[0][i]+p[1][i]+p[2][i])/3\n",
        "\n",
        "opt=np.max(c)\n",
        "n_arms=10;\n",
        "T=365\n",
        "\n",
        "fixedBid=1.0\n",
        "totalRevenueTS=[]\n",
        "totalRevenueUCB1=[]\n",
        "dailyTS=0\n",
        "dailyUCB1=0\n",
        "\n",
        "cumRewardTS=0\n",
        "cumRewardUCB1=0\n",
        "nrClick=380\n",
        "costPerClick=1.0\n",
        "env = Enviroment(n_arms= n_arms, probabilities=c)\n",
        "ts_learner= TS_Learner(n_arms=n_arms)\n",
        "ucb1_learner= UCB1(n_arms= n_arms)\n",
        "for t in range (0,T):\n",
        "    #pull TS arm\n",
        "    pulled_armTS=ts_learner.pull_arm() #prendo l'arm\n",
        "\n",
        "    #pull UCB1 arm\n",
        "    pulled_armUCB1=ucb1_learner.pull_arm()\n",
        "    \n",
        "    #I pull a new arm every day, and i propose the same price to the same person\n",
        "    \n",
        "    for c in range(0, nrClick):\n",
        "        #Thompson Sampling Learner\n",
        "        \n",
        "        reward= env.round(pulled_armTS) #calcolo il reward\n",
        "        cumRewardTS+=reward*(prezzi[pulled_armTS]/max_prezzo)\n",
        "        dailyTS+=reward*prezzi[pulled_armTS]-costPerClick\n",
        "        \n",
        "        \n",
        "        #totalRevenueTS=totalRevenueTS.append(prezzi[pulled_arm])\n",
        "        #ts_learner.update(pulled_arm, reward)\n",
        "        \n",
        "        \n",
        "        #UCB1 Learner \n",
        "        \n",
        "        reward=env.round(pulled_armUCB1)\n",
        "        cumRewardUCB1+=reward*(prezzi[pulled_armTS]/max_prezzo)\n",
        "        dailyUCB1+=reward*prezzi[pulled_armUCB1]-costPerClick\n",
        "        #totalRevenueUCB1=totalRevenueUCB1.append(prezzi[pulled_arm])\n",
        "        #ucb1_learner.update(pulled_arm, reward)\n",
        "    \n",
        "    \n",
        "    #make the average of the cumulative reward \n",
        "    totalRevenueTS.append(dailyTS)\n",
        "    totalRevenueUCB1.append(dailyUCB1)\n",
        "    #print(totalRevenueTS[t])\n",
        "    #print(totalRevenueUCB1[t])\n",
        "    ts_learner.update(pulled_armTS,cumRewardTS/nrClick)\n",
        "    ucb1_learner.update(pulled_armUCB1, cumRewardUCB1/nrClick)\n",
        "    dailyTS=0\n",
        "    dailyUCB1=0\n",
        "    cumRewardTS=0\n",
        "    cumRewardUCB1=0\n",
        "\n",
        "\n",
        "print(np.cumsum(totalRevenueTS)[364])\n",
        "print(np.cumsum(totalRevenueUCB1)[364])\n",
        "\n",
        "\n",
        "\n",
        "plt.figure(0)\n",
        "plt.xlabel(\"t\")\n",
        "plt.ylabel(\"Revenue\")\n",
        "plt.plot(np.cumsum(totalRevenueTS, axis=0), 'r')\n",
        "plt.plot(np.cumsum(totalRevenueUCB1, axis=0), 'b')\n",
        "plt.legend([\"TS\", \"UCB1\"])\n",
        "\n",
        "\n",
        "\n",
        "\n",
        "\n",
        "plt.show()\n"
      ],
      "execution_count": 106,
      "outputs": [
        {
          "output_type": "stream",
          "name": "stdout",
          "text": [
            "638207.0\n",
            "449568.0\n"
          ]
        },
        {
          "output_type": "display_data",
          "data": {
            "image/png": "[encoded data removed]",
            "text/plain": [
              "<Figure size 432x288 with 1 Axes>"
            ]
          },
          "metadata": {
            "needs_background": "light"
          }
        }
      ]
    },
    {
      "cell_type": "markdown",
      "metadata": {
        "id": "nnL7AiLr7p6W"
      },
      "source": [
        "### Step 4"
      ]
    },
    {
      "cell_type": "code",
      "metadata": {
        "colab": {
          "base_uri": "https://localhost:8080/",
          "height": 313
        },
        "id": "LWmxSt_Y7gjL",
        "outputId": "aa0912ad-c87c-4ba6-a1e2-466ae8dc5856"
      },
      "source": [
        "context= contextEnv()\n",
        "prezzi=context.prices\n",
        "\n",
        "\n",
        "\n",
        "p=context.probabilities\n",
        "\n",
        "fixedBid=1.0\n",
        "costPerClick=1.0\n",
        "\n",
        "\n",
        "optClass1=np.max(p[0])\n",
        "optClass2=np.max(p[1])\n",
        "optClass3=np.max(p[2])\n",
        "\n",
        "max_prezzo= np.max(prezzi)\n",
        "\n",
        "\n",
        "n_arms=10;\n",
        "T=365\n",
        "\n",
        "\n",
        "\n",
        "\n",
        "totalRevenueTS=[]\n",
        "\n",
        "\n",
        "totalRevenueSingle=[]\n",
        "\n",
        "\n",
        "#reward if for every class i use his optimal arm\n",
        "dailyTS=0\n",
        "\n",
        "dailyTSSingle=0\n",
        "\n",
        "\n",
        "cumRewardTSC1=0\n",
        "cumRewardTSC2=0\n",
        "cumRewardTSC3=0\n",
        "cumRewardSingle=0\n",
        "\n",
        "nrClickPerClass=127\n",
        "\n",
        "\n",
        "#for each class define a new enviroment with his respective probabilities\n",
        "envClass1 = Enviroment(n_arms= n_arms, probabilities=p[0])\n",
        "envClass2 = Enviroment(n_arms= n_arms, probabilities=p[1])\n",
        "envClass3 = Enviroment(n_arms= n_arms, probabilities=p[2])\n",
        "\n",
        "#for every class define 3 different TS learner\n",
        "ts_learnerClass1= TS_Learner(n_arms=n_arms)\n",
        "ts_learnerClass2= TS_Learner(n_arms=n_arms)\n",
        "ts_learnerClass3= TS_Learner(n_arms=n_arms)\n",
        "\n",
        "ts_learnerSingle =TS_Learner(n_arms=n_arms)\n",
        "\n",
        "\n",
        "\n",
        "for t in range (0,T):\n",
        "    \n",
        "    \n",
        "    #pull TS arms\n",
        "    pulled_armC1=ts_learnerClass1.pull_arm() \n",
        "    pulled_armC2=ts_learnerClass2.pull_arm() \n",
        "    pulled_armC3=ts_learnerClass3.pull_arm() \n",
        "    pulled_armSingle=ts_learnerSingle.pull_arm()\n",
        "    \n",
        "    \n",
        "    \n",
        "    \n",
        "    #I pull a new arm every day, and i can distinguish the three different\n",
        "    #class, and propose to each of them a different class\n",
        "    \n",
        "    #Class 1\n",
        "    \n",
        "    for x in range(0, nrClickPerClass):\n",
        "        #Getting reward from his best arm\n",
        "        reward= envClass1.round(pulled_armC1) #calcolo il reward\n",
        "        cumRewardTSC1+=reward*(prezzi[pulled_armC1]/max_prezzo)\n",
        "        dailyTS+=reward*prezzi[pulled_armC1]-costPerClick\n",
        "    \n",
        "        #using single learner\n",
        " \n",
        "        reward= envClass1.round(pulled_armSingle)    \n",
        "        dailyTSSingle+= reward*prezzi[pulled_armSingle]-costPerClick\n",
        "        cumRewardSingle+=reward*(prezzi[pulled_armSingle]/max_prezzo)\n",
        "    \n",
        "    \n",
        "        \n",
        "    #Class 2\n",
        "    for x in range(0, nrClickPerClass):\n",
        "        #Getting reward from his best arm\n",
        "        reward= envClass2.round(pulled_armC2) #calcolo il reward\n",
        "        cumRewardTSC2+=reward*(prezzi[pulled_armC2]/max_prezzo)\n",
        "        dailyTS+=reward*prezzi[pulled_armC2]-costPerClick\n",
        "               \n",
        "               \n",
        "        #using single learner\n",
        "        \n",
        "        reward= envClass2.round(pulled_armSingle)\n",
        "        dailyTSSingle+= reward*prezzi[pulled_armSingle]-costPerClick\n",
        "        cumRewardSingle+=reward*(prezzi[pulled_armSingle]/max_prezzo)\n",
        "        \n",
        "     \n",
        "    #Class 3\n",
        "    for x in range(0, nrClickPerClass):\n",
        "        #Getting reward from his best arm\n",
        "        reward= envClass3.round(pulled_armC3) #calcolo il reward\n",
        "        cumRewardTSC3+=reward*(prezzi[pulled_armC3]/max_prezzo)\n",
        "        dailyTS+=reward*prezzi[pulled_armC3]-costPerClick\n",
        "                \n",
        "        \n",
        "        #using single learner\n",
        "        \n",
        "        reward= envClass3.round(pulled_armSingle)\n",
        "        dailyTSSingle+= reward*prezzi[pulled_armSingle]-costPerClick\n",
        "        cumRewardSingle+=reward*(prezzi[pulled_armSingle]/max_prezzo)\n",
        "    \n",
        "    \n",
        "    #make the average of the cumulative reward \n",
        "    totalRevenueTS.append(dailyTS)\n",
        "    totalRevenueSingle.append(dailyTSSingle)\n",
        "    \n",
        "    \n",
        "    \n",
        "    ts_learnerClass1.update(pulled_armC1,cumRewardTSC1/nrClickPerClass)\n",
        "    ts_learnerClass2.update(pulled_armC2,cumRewardTSC2/nrClickPerClass)\n",
        "    ts_learnerClass3.update(pulled_armC3,cumRewardTSC3/nrClickPerClass)\n",
        "    ts_learnerSingle.update(pulled_armSingle, cumRewardSingle/(3*nrClickPerClass))\n",
        "    \n",
        "    \n",
        "    \n",
        "    cumRewardTSC1=0\n",
        "    cumRewardTSC2=0\n",
        "    cumRewardTSC3=0\n",
        "    cumRewardSingle=0\n",
        "    \n",
        "\n",
        "    dailyTS=0\n",
        "    dailyTSSingle=0\n",
        "\n",
        "print(np.cumsum(totalRevenueTS, axis=0)[364])\n",
        "print(np.cumsum(totalRevenueSingle, axis=0)[364])\n",
        "\n",
        "\n",
        "\n",
        "\n",
        "plt.figure(0)\n",
        "plt.xlabel(\"t\")\n",
        "plt.ylabel(\"Revenue\")\n",
        "plt.plot(np.cumsum(totalRevenueTS, axis=0), 'r')\n",
        "plt.plot(np.cumsum(totalRevenueSingle, axis=0), 'y')\n",
        "plt.legend([\"OptimalArm\", \"Single Learner\"])\n",
        "\n",
        "\n",
        "\n",
        "plt.show()\n"
      ],
      "execution_count": 107,
      "outputs": [
        {
          "output_type": "stream",
          "name": "stdout",
          "text": [
            "720508.0\n",
            "640421.0\n"
          ]
        },
        {
          "output_type": "display_data",
          "data": {
            "image/png": "[encoded data removed]",
            "text/plain": [
              "<Figure size 432x288 with 1 Axes>"
            ]
          },
          "metadata": {
            "needs_background": "light"
          }
        }
      ]
    },
    {
      "cell_type": "markdown",
      "metadata": {
        "id": "A4cWVh8i7yUn"
      },
      "source": [
        "### Step 5 GTS"
      ]
    },
    {
      "cell_type": "code",
      "metadata": {
        "colab": {
          "base_uri": "https://localhost:8080/",
          "height": 281
        },
        "id": "eBt_XUGnsC2I",
        "outputId": "b1f6ae06-8efd-413f-bdce-9734c7af1762"
      },
      "source": [
        "n_arms = 10\n",
        "min_bid = 0.0\n",
        "max_bid = 1.0\n",
        "bids = np.linspace(min_bid, max_bid, n_arms)\n",
        "sigma = 10\n",
        "\n",
        "context = contextEnv()\n",
        "fixed_price = np.mean(context.prices)\n",
        "profit_margin = fixed_price * 0.15\n",
        "conv_prob = np.mean(sum(context.probabilities, []))\n",
        "rp = np.zeros(10)\n",
        "rn = np.zeros(10)\n",
        "\n",
        "T = 365\n",
        "gts_rewards_per_experiment = []\n",
        "env = BiddingEnvironment(bids=bids, sigma=sigma)\n",
        "gts_learner = GTS_Learner(n_arms=n_arms)\n",
        "u_idx = 0\n",
        "for i in range(0,10):\n",
        "    for j in range(0,4):\n",
        "        reward = env.round(u_idx)\n",
        "        u_idx += 1\n",
        "        u_idx = u_idx % 10\n",
        "        pulled_arm = u_idx\n",
        "        reward = env.round(pulled_arm)\n",
        "        nof = reward * conv_prob\n",
        "        cost = context.costPerClick(env.bids[pulled_arm]) * reward\n",
        "        profit = profit_margin * nof\n",
        "        if(profit > cost):\n",
        "            rp[pulled_arm] += 1\n",
        "            gts_learner.revenue_probs[pulled_arm] = (rn[pulled_arm]) /  (rp[pulled_arm] + rn[pulled_arm])\n",
        "        else: \n",
        "            rn[pulled_arm] += 1\n",
        "            gts_learner.revenue_probs[pulled_arm] = (rn[pulled_arm]) /  (rp[pulled_arm] + rn[pulled_arm])\n",
        "\n",
        "        gts_learner.update(pulled_arm, reward) \n",
        "\n",
        "\n",
        "for t in range(10, T):   \n",
        "    for j in range(0,4):\n",
        "        #Gaussian Process Thompson Sampling Learner\n",
        "        pulled_arm = gts_learner.pull_arm()\n",
        "        reward = env.round(pulled_arm)\n",
        "        nof = reward * conv_prob\n",
        "        cost = context.costPerClick(env.bids[pulled_arm]) * reward\n",
        "        profit = profit_margin * nof \n",
        "        if(profit > cost):\n",
        "            rp[pulled_arm] += 1\n",
        "            gts_learner.revenue_probs[pulled_arm] = (rn[pulled_arm]) /  (rp[pulled_arm] + rn[pulled_arm])\n",
        "        else: \n",
        "            rn[pulled_arm] += 1\n",
        "            gts_learner.revenue_probs[pulled_arm] = (rn[pulled_arm]) /  (rp[pulled_arm] + rn[pulled_arm])\n",
        "        \n",
        "        gts_learner.update(pulled_arm, reward)\n",
        "\n",
        "gts_rewards_per_experiment.append(gts_learner.collected_rewards)\n",
        "\n",
        "opt = np.max(env.means)\n",
        "plt.figure(0)\n",
        "plt.xlabel(\"t\")\n",
        "plt.ylabel(\"Regret\")\n",
        "plt.plot(np.cumsum(np.mean(opt - gts_rewards_per_experiment, axis=0)), 'r')\n",
        "plt.legend([\"GTS\"])\n",
        "plt.show()"
      ],
      "execution_count": 115,
      "outputs": [
        {
          "output_type": "display_data",
          "data": {
            "image/png": "[encoded data removed]",
            "text/plain": [
              "<Figure size 432x288 with 1 Axes>"
            ]
          },
          "metadata": {
            "needs_background": "light"
          }
        }
      ]
    },
    {
      "cell_type": "markdown",
      "metadata": {
        "id": "7h2H-noH8KRc"
      },
      "source": [
        "### Step 5 GPTS"
      ]
    },
    {
      "cell_type": "code",
      "metadata": {
        "colab": {
          "base_uri": "https://localhost:8080/",
          "height": 279
        },
        "id": "_rxpmn5_r6V0",
        "outputId": "39a50580-0907-4eb3-f001-66222632c05b"
      },
      "source": [
        "context = contextEnv()\n",
        "fixed_price = np.mean(context.prices)\n",
        "profit_margin = fixed_price * 0.15\n",
        "conv_prob = np.mean(sum(context.probabilities, []))\n",
        "rp = np.zeros(10)\n",
        "rn = np.zeros(10)\n",
        "\n",
        "T = 365\n",
        "n_experiment = 10\n",
        "gpts_rewards_per_experiment = []    \n",
        "\n",
        "\n",
        "env = BiddingEnvironment(bids=bids, sigma=sigma)\n",
        "gpts_learner = GPTS_Learner(n_arms=n_arms, arms=bids)\n",
        "u_idx = 0\n",
        "\n",
        "for i in range(0,10):\n",
        "    for i in range(0,4):\n",
        "        reward = env.round(u_idx)\n",
        "        u_idx += 1\n",
        "        u_idx = u_idx % 10\n",
        "        pulled_arm = u_idx\n",
        "        reward = env.round(pulled_arm)\n",
        "        nof = reward * conv_prob\n",
        "        cost = context.costPerClick(env.bids[pulled_arm]) * nof\n",
        "        profit = profit_margin * nof\n",
        "        if(profit > cost):\n",
        "            rp[pulled_arm] += 1\n",
        "            gpts_learner.revenue_probs[pulled_arm] = (rp[pulled_arm]) /  (rp[pulled_arm] + rn[pulled_arm])\n",
        "        else: \n",
        "            rn[pulled_arm] += 1\n",
        "            gpts_learner.revenue_probs[pulled_arm] = (rp[pulled_arm]) /  (rp[pulled_arm] + rn[pulled_arm] + 1)\n",
        "\n",
        "        gpts_learner.update(pulled_arm, reward) \n",
        "\n",
        "\n",
        "for t in range(10, T):   \n",
        "    #Gaussian Process Thompson Sampling Learner\n",
        "    pulled_arm = gts_learner.pull_arm()\n",
        "    reward = env.round(pulled_arm)\n",
        "    nof = reward * conv_prob\n",
        "    cost = context.costPerClick(env.bids[pulled_arm]) * nof\n",
        "    price = profit_margin * nof\n",
        "    if(profit > cost):\n",
        "        rp[pulled_arm] += 1\n",
        "        gpts_learner.revenue_probs[pulled_arm] = (rp[pulled_arm]) /  (rp[pulled_arm] + rn[pulled_arm])\n",
        "    else: \n",
        "        rn[pulled_arm] += 1\n",
        "        gpts_learner.revenue_probs[pulled_arm] = (rp[pulled_arm]) /  (rp[pulled_arm] + rn[pulled_arm])\n",
        "    gpts_learner.update(pulled_arm, reward)\n",
        "    \n",
        "    \n",
        "    \n",
        "gpts_rewards_per_experiment.append(gpts_learner.collected_rewards)\n",
        "\n",
        "\n",
        "opt = np.max(env.means)\n",
        "plt.figure(0)\n",
        "plt.xlabel(\"t\")\n",
        "plt.ylabel(\"Regret\")\n",
        "plt.plot(np.cumsum(np.mean(opt - gpts_rewards_per_experiment, axis=0)), 'g')\n",
        "plt.legend([\"GPTS\"])\n",
        "plt.show()"
      ],
      "execution_count": 102,
      "outputs": [
        {
          "output_type": "display_data",
          "data": {
            "image/png": "[encoded data removed]",
            "text/plain": [
              "<Figure size 432x288 with 1 Axes>"
            ]
          },
          "metadata": {
            "needs_background": "light"
          }
        }
      ]
    },
    {
      "cell_type": "markdown",
      "metadata": {
        "id": "GsL756bk9Yze"
      },
      "source": [
        "### Step 6"
      ]
    },
    {
      "cell_type": "code",
      "metadata": {
        "id": "7bdoCP_FbJQr",
        "colab": {
          "base_uri": "https://localhost:8080/",
          "height": 279
        },
        "outputId": "58b491ea-1efd-4480-ed58-2c24208746ca"
      },
      "source": [
        "context = contextEnv()\n",
        "prices = context.prices\n",
        "probs = context.probabilities\n",
        "max_price = np.max(prices)\n",
        "cum_probs = np.zeros(10)\n",
        "for i in range(0,9):\n",
        "    cum_probs[i] = (probs[0][i] + probs[1][i] + probs[2][i]) / 3\n",
        "\n",
        "n_arms = 10\n",
        "T_days = 365\n",
        "\n",
        "ts_rewards = []\n",
        "totalRevenueTS = []\n",
        "dailyTS = 0\n",
        "cum_rewardTS = 0 \n",
        "\n",
        "\n",
        "min_bid = 0.0\n",
        "max_bid = 1.0\n",
        "bids = np.linspace(min_bid, max_bid, n_arms)\n",
        "sigma = 10\n",
        "profit_margin = 0.15\n",
        "rp = np.zeros(n_arms)\n",
        "rn = np.zeros(n_arms)\n",
        "\n",
        "\n",
        "p_env = Enviroment(n_arms = n_arms, probabilities = cum_probs)\n",
        "b_env = BiddingEnvironment(bids=bids, sigma=sigma)\n",
        "ts_learner = TS_Learner(n_arms = n_arms)\n",
        "gpts_learner = GPTS_Learner(n_arms=n_arms, arms=bids)\n",
        "\n",
        "\n",
        "for t in range(0, T_days):\n",
        "    pulled_bid_arm = gpts_learner.pull_arm()\n",
        "    bid_reward = b_env.round(pulled_bid_arm)\n",
        "    \n",
        "    pulled_price_arm = ts_learner.pull_arm()\n",
        "    no_of_clicks = bid_reward * cum_probs[pulled_price_arm]\n",
        "    cost_per_click = context.costPerClick(bids[pulled_bid_arm])\n",
        "\n",
        "    for k in range(0, int(bid_reward)):\n",
        "        price_reward = p_env.round(pulled_price_arm)\n",
        "        cum_rewardTS += price_reward * (prices[pulled_price_arm] / max_price)\n",
        "        dailyTS += price_reward * prices[pulled_price_arm] - cost_per_click\n",
        "    \n",
        "    totalRevenueTS.append(dailyTS)\n",
        "    ts_rewards.append(cum_rewardTS / int(bid_reward))\n",
        "    ts_learner.update(pulled_price_arm , cum_rewardTS / int(bid_reward))\n",
        "    dailyTS = 0\n",
        "    cum_rewardTS = 0\n",
        "\n",
        "    profit = prices[pulled_price_arm] * profit_margin * no_of_clicks\n",
        "    if(profit > (cost_per_click * bid_reward)):\n",
        "        rp[pulled_bid_arm] += 1\n",
        "        gpts_learner.revenue_probs[pulled_bid_arm] = (rn[pulled_bid_arm]) /  (rp[pulled_bid_arm] + rn[pulled_bid_arm])\n",
        "    else: \n",
        "        rn[pulled_bid_arm] += 1\n",
        "        gpts_learner.revenue_probs[pulled_bid_arm] = (rn[pulled_bid_arm]) /  (rp[pulled_bid_arm] + rn[pulled_bid_arm])\n",
        "    gpts_learner.update(pulled_bid_arm, no_of_clicks)\n",
        "\n",
        "\n",
        "\n",
        "plt.figure(0)\n",
        "plt.xlabel(\"t\")\n",
        "plt.ylabel(\"Revenue\")\n",
        "plt.plot(np.cumsum(totalRevenueTS, axis=0), 'r')\n",
        "plt.legend([\"TS\"])\n",
        "plt.show()"
      ],
      "execution_count": 113,
      "outputs": [
        {
          "output_type": "display_data",
          "data": {
            "image/png": "[encoded data removed]",
            "text/plain": [
              "<Figure size 432x288 with 1 Axes>"
            ]
          },
          "metadata": {
            "needs_background": "light"
          }
        }
      ]
    },
    {
      "cell_type": "markdown",
      "metadata": {
        "id": "fzE7SRcI90Tw"
      },
      "source": [
        "### Step 7"
      ]
    },
    {
      "cell_type": "code",
      "metadata": {
        "colab": {
          "base_uri": "https://localhost:8080/",
          "height": 313
        },
        "id": "dg7c_DK9pkFp",
        "outputId": "b5082840-0252-42e4-88bb-c92220df5d26"
      },
      "source": [
        "context= contextEnv()\n",
        "prices = context.prices\n",
        "max_price = np.max(prices)\n",
        "\n",
        "\n",
        "\n",
        "probs = context.probabilities\n",
        "# fixedBid = 1.0\n",
        "\n",
        "optClass1 = np.max(probs[0])\n",
        "optClass2 = np.max(probs[1])\n",
        "optClass3 = np.max(probs[2])\n",
        "\n",
        "n_arms = 10;\n",
        "T = 365\n",
        "\n",
        "ts_rewardsC1 = [] \n",
        "ts_rewardsC2 = [] \n",
        "ts_rewardsC3 = [] \n",
        "\n",
        "totalRevenueTS = []\n",
        "totalRevenueSingle = []\n",
        "\n",
        "dailyTS = 0\n",
        "dailyTSSingle = 0\n",
        "\n",
        "\n",
        "cumRewardTSC1 = 0\n",
        "cumRewardTSC2 = 0 \n",
        "cumRewardTSC3 = 0\n",
        "cumRewardSingle = 0\n",
        "\n",
        "min_bid = 0.0\n",
        "max_bid = 1.0\n",
        "bids = np.linspace(min_bid, max_bid, n_arms)\n",
        "sigma = 10\n",
        "profit_margin = 0.15\n",
        "rp = np.zeros(n_arms)\n",
        "rn = np.zeros(n_arms)\n",
        "\n",
        "# nrClickPerClass=167\n",
        "\n",
        "\n",
        "#for each class define a new enviroment with his respective probabilities\n",
        "p_envClass1 = Enviroment(n_arms = n_arms, probabilities = probs[0])\n",
        "p_envClass2 = Enviroment(n_arms = n_arms, probabilities = probs[1])\n",
        "p_envClass3 = Enviroment(n_arms = n_arms, probabilities = probs[2])\n",
        "\n",
        "# b_envClass1 = BiddingEnvironment(bids = bids, sigma = sigma)\n",
        "# b_envClass2 = BiddingEnvironment(bids = bids, sigma = sigma)\n",
        "# b_envClass3 = BiddingEnvironment(bids = bids, sigma = sigma)\n",
        "\n",
        "b_env = BiddingEnvironment(bids = bids, sigma = sigma)\n",
        "\n",
        "#for every class define 3 different TS learner\n",
        "ts_learnerClass1 = TS_Learner(n_arms = n_arms)\n",
        "ts_learnerClass2 = TS_Learner(n_arms = n_arms)\n",
        "ts_learnerClass3 = TS_Learner(n_arms = n_arms)\n",
        "\n",
        "ts_learnerSingle = TS_Learner(n_arms = n_arms)\n",
        "\n",
        "# gts_learner1 = GTS_Learner(n_arms=n_arms, arms=bids)\n",
        "# gts_learner2 = GTS_Learner(n_arms=n_arms, arms=bids)\n",
        "# gts_learner3 = GTS_Learner(n_arms=n_arms, arms=bids)\n",
        "\n",
        "gts_learner = GTS_Learner(n_arms=n_arms)\n",
        "\n",
        "\n",
        "\n",
        "for t in range (0,T):\n",
        "    \n",
        "    \n",
        "    #pull TS arms\n",
        "    p_pulled_armC1 = ts_learnerClass1.pull_arm() \n",
        "    p_pulled_armC2 = ts_learnerClass2.pull_arm() \n",
        "    p_pulled_armC3 = ts_learnerClass3.pull_arm() \n",
        "    p_pulled_armSingle = ts_learnerSingle.pull_arm()\n",
        "\n",
        "    # b_pulled_armC1 = gts_learner1.pull_arm()\n",
        "    # b_pulled_armC2 = gts_learner2.pull_arm()\n",
        "    # b_pulled_armC3 = gts_learner3.pull_arm()\n",
        "    # b_pulled_armSingle = gts_learnerSingle.pull_arm()\n",
        "    b_pulled_arm = gts_learner.pull_arm()\n",
        "\n",
        "    # bid_reward1 = b_envClass1.round(b_pulled_armC1)\n",
        "    # bid_reward2 = b_envClass2.round(b_pulled_armC2)\n",
        "    # bid_reward3 = b_envClass3.round(b_pulled_armC3)\n",
        "    \n",
        "    bid_reward = b_env.round(b_pulled_arm)\n",
        "\n",
        "\n",
        "    no_of_clicks1 = int(bid_reward * probs[0][p_pulled_armC1]) + 1\n",
        "    no_of_clicks2 = int(bid_reward * probs[1][p_pulled_armC2]) + 1\n",
        "    no_of_clicks3 = int(bid_reward * probs[2][p_pulled_armC3]) + 1\n",
        "    \n",
        "\n",
        "    cost_per_click = context.costPerClick(bids[b_pulled_arm])\n",
        "    \n",
        "    #I pull a new arm every day, and i can distinguish the three different\n",
        "    #class, and propose to each of them a different class\n",
        "    \n",
        "    #Class 1\n",
        "    \n",
        "    for x in range(0, no_of_clicks1):\n",
        "        #Getting reward from his best arm\n",
        "        reward = p_envClass1.round(p_pulled_armC1) #calcolo il reward\n",
        "        cumRewardTSC1 += reward * (prices[p_pulled_armC1] / max_price)\n",
        "        dailyTS += reward * prices[p_pulled_armC1] - cost_per_click\n",
        "    \n",
        "        #using single learner\n",
        "        reward = p_envClass1.round(p_pulled_armSingle)    \n",
        "        dailyTSSingle += reward * prices[p_pulled_armSingle] - cost_per_click\n",
        "        cumRewardSingle += reward * (prices[p_pulled_armSingle] / max_price)\n",
        "    \n",
        "    \n",
        "        \n",
        "    #Class 2\n",
        "    for x in range(0, no_of_clicks2):\n",
        "        #Getting reward from his best arm\n",
        "        reward = p_envClass2.round(p_pulled_armC2) #calcolo il reward\n",
        "        cumRewardTSC2 += reward *(prices[p_pulled_armC2] / max_price)\n",
        "        dailyTS += reward * prices[p_pulled_armC2] - cost_per_click\n",
        "               \n",
        "               \n",
        "        #using single learner\n",
        "        \n",
        "        reward = p_envClass2.round(p_pulled_armSingle)\n",
        "        dailyTSSingle += reward * prices[p_pulled_armSingle] - cost_per_click\n",
        "        cumRewardSingle += reward * (prices[p_pulled_armSingle] / max_price)\n",
        "        \n",
        "     \n",
        "    #Class 3\n",
        "    for x in range(0, no_of_clicks3):\n",
        "        #Getting reward from his best arm\n",
        "        reward = p_envClass3.round(p_pulled_armC3) #calcolo il reward\n",
        "        cumRewardTSC3 += reward * (prices[p_pulled_armC3] / max_price)\n",
        "        dailyTS += reward * prices[p_pulled_armC3] - cost_per_click\n",
        "                \n",
        "        \n",
        "        #using single learner\n",
        "        \n",
        "        reward = p_envClass3.round(p_pulled_armSingle)\n",
        "        dailyTSSingle += reward * prices[p_pulled_armSingle] - cost_per_click\n",
        "        cumRewardSingle += reward * (prices[p_pulled_armSingle] / max_price)\n",
        "    \n",
        "    \n",
        "    #make the average of the cumulative reward \n",
        "    totalRevenueTS.append(dailyTS)\n",
        "    totalRevenueSingle.append(dailyTSSingle)\n",
        "    \n",
        "    \n",
        "    ts_rewardsC1.append(cumRewardTSC1/no_of_clicks1)  \n",
        "    ts_rewardsC2.append(cumRewardTSC2/no_of_clicks2)  \n",
        "    ts_rewardsC3.append(cumRewardTSC3/no_of_clicks3)  \n",
        "\n",
        "    total_clicks = no_of_clicks1 + no_of_clicks2 + no_of_clicks3    \n",
        "    ts_learnerClass1.update(p_pulled_armC1,cumRewardTSC1/no_of_clicks1)\n",
        "    ts_learnerClass2.update(p_pulled_armC2,cumRewardTSC2/no_of_clicks2)\n",
        "    ts_learnerClass3.update(p_pulled_armC3,cumRewardTSC3/no_of_clicks3)\n",
        "    ts_learnerSingle.update(p_pulled_armSingle, cumRewardSingle/total_clicks)\n",
        "    \n",
        "    profit1 = prices[p_pulled_armC1] * profit_margin * no_of_clicks1\n",
        "    profit2 = prices[p_pulled_armC2] * profit_margin * no_of_clicks2\n",
        "    profit3 = prices[p_pulled_armC3] * profit_margin * no_of_clicks3\n",
        "    total_profit = profit1 + profit2 + profit3\n",
        "    if(total_profit > (cost_per_click * bid_reward * 3)):\n",
        "        rp[b_pulled_arm] += 1\n",
        "        gts_learner.revenue_probs[b_pulled_arm] = (rn[b_pulled_arm]) /  (rp[b_pulled_arm] + rn[b_pulled_arm])\n",
        "    else: \n",
        "        rn[b_pulled_arm] += 1\n",
        "        gts_learner.revenue_probs[b_pulled_arm] = (rn[b_pulled_arm]) /  (rp[b_pulled_arm] + rn[b_pulled_arm])\n",
        "    gts_learner.update(b_pulled_arm, total_clicks)\n",
        "    \n",
        "    cumRewardTSC1=0\n",
        "    cumRewardTSC2=0\n",
        "    cumRewardTSC3=0\n",
        "    cumRewardSingle=0\n",
        "    \n",
        "\n",
        "    dailyTS=0\n",
        "    dailyTSSingle=0\n",
        "\n",
        "print(np.cumsum(totalRevenueTS, axis=0)[364])\n",
        "print(np.cumsum(totalRevenueSingle, axis=0)[364])\n",
        "\n",
        "\n",
        "\n",
        "\n",
        "plt.figure(0)\n",
        "plt.xlabel(\"t\")\n",
        "plt.ylabel(\"Revenue\")\n",
        "plt.plot(np.cumsum(totalRevenueTS, axis=0), 'r')\n",
        "plt.plot(np.cumsum(totalRevenueSingle, axis=0), 'y')\n",
        "plt.legend([\"OptimalArm\", \"Single\"])\n",
        "\n",
        "\n",
        "\n",
        "plt.show()\n"
      ],
      "execution_count": 114,
      "outputs": [
        {
          "output_type": "stream",
          "name": "stdout",
          "text": [
            "[821796.33217462]\n",
            "[691696.33217462]\n"
          ]
        },
        {
          "output_type": "display_data",
          "data": {
            "image/png": "[encoded data removed]",
            "text/plain": [
              "<Figure size 432x288 with 1 Axes>"
            ]
          },
          "metadata": {
            "needs_background": "light"
          }
        }
      ]
    }
  ]
}